{
  "nbformat": 4,
  "nbformat_minor": 0,
  "metadata": {
    "colab": {
      "provenance": [],
      "authorship_tag": "ABX9TyN2nZnFx/p0530DlFbdhxcd",
      "include_colab_link": true
    },
    "kernelspec": {
      "name": "python3",
      "display_name": "Python 3"
    },
    "language_info": {
      "name": "python"
    }
  },
  "cells": [
    {
      "cell_type": "markdown",
      "metadata": {
        "id": "view-in-github",
        "colab_type": "text"
      },
      "source": [
        "<a href=\"https://colab.research.google.com/github/knxghtly/python-tensorflow-MLDL-Study/blob/main/%5B5%5D%ED%99%95%EB%A5%A0%EC%A0%81%EA%B2%BD%EC%82%AC%ED%95%98%EA%B0%95%EB%B2%95(Stochastic_Gradient_Descent).ipynb\" target=\"_parent\"><img src=\"https://colab.research.google.com/assets/colab-badge.svg\" alt=\"Open In Colab\"/></a>"
      ]
    },
    {
      "cell_type": "markdown",
      "source": [
        "특정한 회귀나 분류 알고리즘이 아니라, 모델을 학습하는 최적화 방법(Optimization Algorithm)\n",
        "\n",
        "손실 함수(loss function)의 기울기(gradient)를 이용해 가중치를 업데이트하는 방식\n",
        "\n",
        "**SGD를 적용할 수 있는 모델 예시**\n",
        " * 회귀(Regression)\n",
        "  * 선형 회귀(Linear Regression)\n",
        "  * 릿지 회귀(Ridge Regression)\n",
        "  * 라쏘 회귀(Lasso Regression)\n",
        " * 분류(Classification)\n",
        "  * 로지스틱 회귀(Logistic Regression)\n",
        "  * 서포트 벡터 머신(SVM) (확률적 경사 하강법으로 최적화 가능)\n",
        "  * 신경망(Neural Networks) (딥러닝에서 기본적인 최적화 방법 중 하나)\n",
        " * 기타 머신러닝 모델\n",
        "  * 확률적 그래디언트 부스팅(SGDBoost) 같은 앙상블 기법에서도 사용 가능"
      ],
      "metadata": {
        "id": "75pc_d2-gb9M"
      }
    },
    {
      "cell_type": "markdown",
      "source": [
        "#회귀 모델에서 쓰는 손실 함수\n",
        " * MSE(Mean Squared Error, 평균 제곱 오차)\n",
        " * MAE(Mean Absolute Error, 평균 절대 오차)\n",
        "\n",
        "✔ 사용하는 모델 예시\n",
        " * 선형 회귀(Linear Regression)\n",
        " * 릿지 회귀(Ridge Regression)\n",
        " * 라쏘 회귀(Lasso Regression)\n",
        "\n",
        "#분류 모델에서 쓰는 손실 함수\n",
        "##1. 로지스틱 손실 함수\n",
        "\n",
        "분류 모델에서는 정확도를 가지고 성능을 평가하기 때문에, 미분불가(SGD사용불가)\n",
        "\n",
        "그래서 로지스틱 손실 함수 사용.\n",
        "\n",
        "| 예측값 \\( ̂y \\) | 실제값 \\( y \\) | 손실 \\( L(y, ̂y) \\) | 손실 크기 |\n",
        "|------|------|----------------|------|\n",
        "| 0.9  | 1    | \\( - (1 × log0.9 + 0 × log(1 - 0.9)) = **0.105** \\) | 낮은 손실 |\n",
        "| 0.3  | 1    | \\( - (1 × log 0.3 + 0 × log (1 - 0.3)) = **1.204** \\) | 높은 손실 |\n",
        "| 0.2  | 0    | \\( - (0 × log 0.2 + 1 × log (1 - 0.2)) = **0.223** \\) | 낮은 손실 |\n",
        "| 0.8  | 0    | \\( - (0 × log 0.8 + 1 × log (1 - 0.8)) = **1.609** \\) | 높은 손실 |\n",
        "\n",
        "\n",
        "\n",
        "✔ 사용하는 모델 예시\n",
        " * 로지스틱 회귀(Logistic Regression)\n",
        " * 신경망(Neural Networks) → 소프트맥스와 함께 다중 분류에 활용\n",
        " * 서포트 벡터 머신(SVM) (로지스틱 손실을 변형하여 사용 가능)"
      ],
      "metadata": {
        "id": "V6ikNE9To1uk"
      }
    },
    {
      "cell_type": "markdown",
      "source": [
        "#0. 데이터 전처리"
      ],
      "metadata": {
        "id": "atye03BD8HjF"
      }
    },
    {
      "cell_type": "code",
      "execution_count": null,
      "metadata": {
        "colab": {
          "base_uri": "https://localhost:8080/"
        },
        "id": "BjZlV5K6cIf8",
        "outputId": "1b74bbfd-a91d-4550-aa3b-23cbd05bd12c"
      },
      "outputs": [
        {
          "output_type": "stream",
          "name": "stdout",
          "text": [
            "(119, 5)\n",
            "(40, 5)\n"
          ]
        }
      ],
      "source": [
        "import pandas as pd\n",
        "import numpy as np\n",
        "from sklearn.model_selection import train_test_split\n",
        "from sklearn.preprocessing import StandardScaler\n",
        "import matplotlib.pyplot as plt\n",
        "\n",
        "# data loading\n",
        "fish = pd.read_csv(\"https://bit.ly/fish_csv_data\")\n",
        "fish_input = fish[[\"Weight\",\"Length\",\"Diagonal\",\"Height\",\"Width\"]].to_numpy()\n",
        "fish_target = fish[\"Species\"].to_numpy()\n",
        "\n",
        "# train_test_split\n",
        "train_input, test_input, train_target, test_target = train_test_split(\n",
        "    fish_input, fish_target, random_state=42\n",
        ")\n",
        "print(train_input.shape)\n",
        "print(test_input.shape)\n",
        "\n",
        "# 경사하강법에서는 꼭 scale을 조정해야함\n",
        "ss = StandardScaler()\n",
        "train_scaled = ss.fit_transform(train_input)\n",
        "test_scaled = ss.transform(test_input)"
      ]
    },
    {
      "cell_type": "code",
      "source": [
        "# SGD가 있는 모듈 (회귀일 때는 SGDRegressor)\n",
        "from sklearn.linear_model import SGDClassifier\n",
        "# loss=\"log_loss\": 로지스틱 손실함수 지정\n",
        "sc = SGDClassifier(loss=\"log_loss\", random_state=42)\n",
        "\n",
        "train_score, test_score = [], []\n",
        "classes = np.unique(train_target) # .unique: 중복데이터 X\n",
        "print(classes)\n",
        "epoch = 300\n",
        "\n",
        "for i in range(epoch):\n",
        "  # fit: 새로 학습 / partial_fit: 한번 더 학습\n",
        "  # classes=: class는 fit을 통해서만 학습하므로,\n",
        "  # partial_fit을 처음부터 쓰려면\n",
        "  # 가능한 클래스 목록(np.unique(train_target))을 줘야함\n",
        "  sc.partial_fit(train_scaled, train_target, classes=classes)\n",
        "  train_score.append(sc.score(train_scaled, train_target))\n",
        "  test_score.append(sc.score(test_scaled, test_target))\n",
        "\n",
        "plt.plot(range(epoch), train_score, label='Train Score')\n",
        "plt.plot(range(epoch), test_score, label='Test Score')\n",
        "plt.xlabel(\"epoch\")\n",
        "plt.show()\n",
        "\n",
        "# 두 번째 SGDClassifier\n",
        "# 조기 종료 예시임. 그래프에서 100번 epoch가 적당해 보이므로 100번반복\n",
        "# tol은 허용 오차(tolerance): 학습을 종료 조건. None이니까 100번모두반복\n",
        "sc = SGDClassifier(loss=\"log_loss\", max_iter=100, tol=None, random_state=42)\n",
        "sc.fit(train_scaled, train_target)\n",
        "\n",
        "print(sc.score(train_scaled, train_target))\n",
        "print(sc.score(test_scaled, test_target))"
      ],
      "metadata": {
        "colab": {
          "base_uri": "https://localhost:8080/",
          "height": 503
        },
        "id": "031uJDnt-I2S",
        "outputId": "f3073717-79b9-4c04-e7fc-4cd6ffa63705"
      },
      "execution_count": null,
      "outputs": [
        {
          "output_type": "stream",
          "name": "stdout",
          "text": [
            "['Bream' 'Parkki' 'Perch' 'Pike' 'Roach' 'Smelt' 'Whitefish']\n"
          ]
        },
        {
          "output_type": "display_data",
          "data": {
            "text/plain": [
              "<Figure size 640x480 with 1 Axes>"
            ],
            "image/png": "[encoded data removed]"
          },
          "metadata": {}
        },
        {
          "output_type": "stream",
          "name": "stdout",
          "text": [
            "0.957983193277311\n",
            "0.925\n"
          ]
        }
      ]
    }
  ]
}