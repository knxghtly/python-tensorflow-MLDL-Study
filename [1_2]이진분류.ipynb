{
  "nbformat": 4,
  "nbformat_minor": 0,
  "metadata": {
    "colab": {
      "provenance": [],
      "authorship_tag": "ABX9TyP7pbLUSbc+o8radPBVF6py",
      "include_colab_link": true
    },
    "kernelspec": {
      "name": "python3",
      "display_name": "Python 3"
    },
    "language_info": {
      "name": "python"
    }
  },
  "cells": [
    {
      "cell_type": "markdown",
      "metadata": {
        "id": "view-in-github",
        "colab_type": "text"
      },
      "source": [
        "<a href=\"https://colab.research.google.com/github/knxghtly/python-tensorflow-MLDL-Study/blob/main/%5B1_2%5D%EC%9D%B4%EC%A7%84%EB%B6%84%EB%A5%98.ipynb\" target=\"_parent\"><img src=\"https://colab.research.google.com/assets/colab-badge.svg\" alt=\"Open In Colab\"/></a>"
      ]
    },
    {
      "cell_type": "markdown",
      "source": [
        "# 0. 데이터준비\n",
        "\n",
        "+) np함수들\n",
        "\n",
        "np.arange(1, 11, 2) / np.array(list)\n",
        "\n",
        "np.ones((2,3)) / np.zeros((2,3)) / np.full((2,3), 9)\n",
        "\n",
        "np.concatenate((narr1, narr2))\n",
        "\n",
        "np.column_stack((narr1, narr2)) / np.row_stack((narr1, narr2))\n",
        "\n",
        "2차원배열 슬라이싱: narray[:, 0] -> 모든 행(:)에 대해 첫 번째(0) 열을 가져온다."
      ],
      "metadata": {
        "id": "ia8meeOZusbq"
      }
    },
    {
      "cell_type": "code",
      "execution_count": null,
      "metadata": {
        "colab": {
          "base_uri": "https://localhost:8080/"
        },
        "id": "fm8j_dGAuLgd",
        "outputId": "3a2911bb-51d3-4b0a-fc11-6cb8e0467b78"
      },
      "outputs": [
        {
          "output_type": "stream",
          "name": "stdout",
          "text": [
            "train_input:(39, 2)\n",
            "train_target:(39,)\n",
            "test_input:(10, 2)\n",
            "test_target:(10,)\n"
          ]
        }
      ],
      "source": [
        "import matplotlib.pyplot as plt # graph 시각화를 위한 lib\n",
        "import numpy as np # 배열 관리를 위한 lib\n",
        "# from IPython.display import display # 여러 개의 표현식을 따로 출력(.display)하기 위한 lib\n",
        "\n",
        "# bream(도미) vs smelt(빙어) 분류\n",
        "bream_length = [25.4, 26.3, 26.5, 29.0, 29.0, 29.7, 29.7, 30.0, 30.0, 30.7,\n",
        "                31.0, 31.0, 31.5, 32.0, 32.0, 32.0, 33.0, 33.0, 33.5, 33.5,\n",
        "                34.0, 34.0, 34.5, 35.0, 35.0, 35.0, 35.0, 36.0, 36.0, 37.0,\n",
        "                38.5, 38.5, 39.5, 41.0, 41.0]\n",
        "bream_weight = [242.0, 290.0, 340.0, 363.0, 430.0, 450.0, 450.0, 500.0, 500.0, 390.0,\n",
        "                450.0, 500.0, 475.0, 500.0, 500.0, 340.0, 600.0, 600.0, 700.0, 700.0,\n",
        "                610.0, 650.0, 575.0, 685.0, 700.0, 725.0, 720.0, 714.0, 850.0, 1000.0,\n",
        "                920.0, 955.0, 925.0, 975.0, 950.0]\n",
        "smelt_length = [9.8, 10.5, 10.6, 11.0, 11.2, 11.3, 11.8, 11.8, 12.0, 12.2,\n",
        "                12.4, 13.0, 14.3, 15.0]\n",
        "smelt_weight = [6.7, 7.5, 7.0, 9.7, 9.8, 8.7, 10.0, 9.9, 9.8, 12.2,\n",
        "                13.4, 12.2, 19.7, 19.9]\n",
        "\n",
        "fish_length = bream_length + smelt_length\n",
        "fish_weight = bream_weight + smelt_weight\n",
        "fish_data = np.column_stack((fish_length, fish_weight)) # [[fish_length, fish_weight], ...]\n",
        "fish_target = np.concatenate((np.ones(35), np.zeros(14))) # bream을 1(Positive Class)로 놓음\n",
        "\n",
        "from sklearn.model_selection import train_test_split\n",
        "train_input, test_input, train_target, test_target = train_test_split(\n",
        "    fish_data, fish_target, test_size=0.2 #, stratify=fish_target\n",
        "    )\n",
        "\n",
        "print(f\"train_input:{train_input.shape}\")\n",
        "print(f\"train_target:{train_target.shape}\")\n",
        "print(f\"test_input:{test_input.shape}\")\n",
        "print(f\"test_target:{test_target.shape}\")"
      ]
    },
    {
      "cell_type": "markdown",
      "source": [
        "# 1. k-최근접 이웃 분류 모델\n",
        "\n",
        " - 가장 가까운 이웃들의 클래스를 따라감\n",
        "\n",
        "메소드들\n",
        " - .fit: 모델 학습\n",
        " - .score: 모델 평가\n",
        " - .predict_proba: 예측확률계산\n",
        " - .kneighbors: 가장 가까운 데이터들의 distance, indexes를 반환"
      ],
      "metadata": {
        "id": "1opYTodb8jq7"
      }
    },
    {
      "cell_type": "code",
      "source": [
        "from sklearn.neighbors import KNeighborsClassifier\n",
        "\n",
        "kn = KNeighborsClassifier(n_neighbors=5) # 기본값 5\n",
        "kn.fit(train_input, train_target)\n",
        "print(kn.score(train_input, train_target))\n",
        "print(kn.score(test_input, test_target))"
      ],
      "metadata": {
        "colab": {
          "base_uri": "https://localhost:8080/"
        },
        "id": "luHuJqSy08vd",
        "outputId": "a0c861cf-7e32-4581-bad6-61f86e497ec6"
      },
      "execution_count": null,
      "outputs": [
        {
          "output_type": "stream",
          "name": "stdout",
          "text": [
            "1.0\n",
            "1.0\n"
          ]
        }
      ]
    },
    {
      "cell_type": "markdown",
      "source": [
        "##데이터 전처리 전"
      ],
      "metadata": {
        "id": "5LI7pArUVDrj"
      }
    },
    {
      "cell_type": "code",
      "source": [
        "ex1 = [37, 600]\n",
        "ex2 = [25, 150]\n",
        "print(\"predict\", ex1, \":\", kn.predict([ex1])) # [1.]: 도미\n",
        "print(\"predict\", ex2, \":\", kn.predict([ex2])) # [0.]: 빙어(??)\n",
        "\n",
        "# Draw\n",
        "plt.xlabel(\"Len\")\n",
        "plt.ylabel(\"W\")\n",
        "dists1, idxs1 = kn.kneighbors([ex1])\n",
        "dists2, idxs2 = kn.kneighbors([ex2])\n",
        "plt.scatter(train_input[:, 0], train_input[:, 1], color=\"blue\") # 모든 샘플의 점\n",
        "plt.scatter(train_input[idxs1, 0], train_input[idxs1, 1], color=\"red\") # ex1에 가까운 점들\n",
        "plt.scatter(train_input[idxs2, 0], train_input[idxs2, 1], color=\"purple\") # ex2에 가까운 점들\n",
        "plt.scatter(ex1[0], ex1[1], color=\"red\", marker=\"^\")\n",
        "plt.scatter(ex2[0], ex2[1], color=\"purple\", marker=\"^\")\n",
        "plt.show()"
      ],
      "metadata": {
        "colab": {
          "base_uri": "https://localhost:8080/",
          "height": 485
        },
        "id": "Evp6cpfDVCx2",
        "outputId": "c7ec2cd8-85a2-4902-ee0d-ca90b60c356e"
      },
      "execution_count": null,
      "outputs": [
        {
          "output_type": "stream",
          "name": "stdout",
          "text": [
            "predict [37, 600] : [1.]\n",
            "predict [25, 150] : [0.]\n"
          ]
        },
        {
          "output_type": "display_data",
          "data": {
            "text/plain": [
              "<Figure size 640x480 with 1 Axes>"
            ],
            "image/png": "[encoded data removed]"
          },
          "metadata": {}
        }
      ]
    },
    {
      "cell_type": "markdown",
      "source": [
        "##데이터 전처리 후\n",
        " - scale을 맞추자 -> 표준(Z) 점수 = (특성-평균)/표준편차"
      ],
      "metadata": {
        "id": "S1TUIUdEVMCr"
      }
    },
    {
      "cell_type": "code",
      "source": [
        "mean = np.mean(train_input, axis=0) # [[mean(W), mean(Len)]] -> 열별로 평균\n",
        "std = np.std(train_input, axis=0) # axis=0\n",
        "ex1_scaled = (ex1 - mean) / std\n",
        "ex2_scaled = (ex2 - mean) / std\n",
        "train_scaled = (train_input - mean) / std\n",
        "kn.fit(train_scaled, train_target)\n",
        "\n",
        "# Draw\n",
        "plt.xlabel(\"Len\")\n",
        "plt.ylabel(\"W\")\n",
        "dists1, idxs1 = kn.kneighbors([ex1_scaled])\n",
        "dists2, idxs2 = kn.kneighbors([ex2_scaled])\n",
        "plt.scatter(train_scaled[:, 0], train_scaled[:, 1], color=\"blue\") # 모든 샘플의 점\n",
        "plt.scatter(train_scaled[idxs1, 0], train_scaled[idxs1, 1], color=\"red\") # ex1에 가까운 점들\n",
        "plt.scatter(train_scaled[idxs2, 0], train_scaled[idxs2, 1], color=\"purple\") # ex2에 가까운 점들\n",
        "plt.scatter(ex1_scaled[0], ex1_scaled[1], color=\"red\", marker=\"^\")\n",
        "plt.scatter(ex2_scaled[0], ex2_scaled[1], color=\"purple\", marker=\"^\")\n",
        "plt.show()\n",
        "\n",
        "print(\"predict\", ex1, \"->\", ex1_scaled, \":\", kn.predict([ex1_scaled])) # [1.]: 도미\n",
        "print(\"predict\", ex2, \"->\", ex2_scaled, \":\", kn.predict([ex2_scaled])) # [1.]: 도미"
      ],
      "metadata": {
        "colab": {
          "base_uri": "https://localhost:8080/",
          "height": 485
        },
        "id": "QlVZE69DVLEk",
        "outputId": "38782780-aae7-47f1-d962-147924acd74d"
      },
      "execution_count": null,
      "outputs": [
        {
          "output_type": "display_data",
          "data": {
            "text/plain": [
              "<Figure size 640x480 with 1 Axes>"
            ],
            "image/png": "[encoded data removed]"
          },
          "metadata": {}
        },
        {
          "output_type": "stream",
          "name": "stdout",
          "text": [
            "predict [37, 600] -> [0.96116172 0.47000472] : [1.]\n",
            "predict [25, 150] -> [-0.29217817 -0.97372106] : [1.]\n"
          ]
        }
      ]
    }
  ]
}